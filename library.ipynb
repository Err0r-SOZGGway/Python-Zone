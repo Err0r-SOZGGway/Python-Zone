{
 "cells": [
  {
   "cell_type": "code",
   "execution_count": 1,
   "id": "92b66221",
   "metadata": {
    "scrolled": true
   },
   "outputs": [
    {
     "name": "stdout",
     "output_type": "stream",
     "text": [
      "Defaulting to user installation because normal site-packages is not writeable\n",
      "Collecting jpholiday\n",
      "  Downloading jpholiday-0.1.8-py3-none-any.whl (9.8 kB)\n",
      "Installing collected packages: jpholiday\n",
      "Successfully installed jpholiday-0.1.8\n"
     ]
    }
   ],
   "source": [
    "!pip install jpholiday"
   ]
  },
  {
   "cell_type": "code",
   "execution_count": 2,
   "id": "d2432e3d",
   "metadata": {},
   "outputs": [
    {
     "name": "stdout",
     "output_type": "stream",
     "text": [
      "Defaulting to user installation because normal site-packages is not writeable\n",
      "Requirement already satisfied: jpholiday in c:\\users\\showo\\appdata\\roaming\\python\\python311\\site-packages (0.1.8)\n"
     ]
    }
   ],
   "source": [
    "!pip install jpholiday"
   ]
  },
  {
   "cell_type": "code",
   "execution_count": 3,
   "id": "56563e56",
   "metadata": {},
   "outputs": [
    {
     "ename": "ModuleNotFoundError",
     "evalue": "No module named 'jpholiday'",
     "output_type": "error",
     "traceback": [
      "\u001b[1;31m---------------------------------------------------------------------------\u001b[0m",
      "\u001b[1;31mModuleNotFoundError\u001b[0m                       Traceback (most recent call last)",
      "Cell \u001b[1;32mIn[3], line 1\u001b[0m\n\u001b[1;32m----> 1\u001b[0m \u001b[38;5;28;01mimport\u001b[39;00m \u001b[38;5;21;01mjpholiday\u001b[39;00m\n",
      "\u001b[1;31mModuleNotFoundError\u001b[0m: No module named 'jpholiday'"
     ]
    }
   ],
   "source": [
    "import jpholiday"
   ]
  },
  {
   "cell_type": "code",
   "execution_count": 4,
   "id": "3dcccae2",
   "metadata": {},
   "outputs": [
    {
     "ename": "ModuleNotFoundError",
     "evalue": "No module named 'jpholiday'",
     "output_type": "error",
     "traceback": [
      "\u001b[1;31m---------------------------------------------------------------------------\u001b[0m",
      "\u001b[1;31mModuleNotFoundError\u001b[0m                       Traceback (most recent call last)",
      "Cell \u001b[1;32mIn[4], line 1\u001b[0m\n\u001b[1;32m----> 1\u001b[0m \u001b[38;5;28;01mimport\u001b[39;00m \u001b[38;5;21;01mjpholiday\u001b[39;00m\n",
      "\u001b[1;31mModuleNotFoundError\u001b[0m: No module named 'jpholiday'"
     ]
    }
   ],
   "source": [
    "import jpholiday"
   ]
  },
  {
   "cell_type": "code",
   "execution_count": 5,
   "id": "503c136f",
   "metadata": {},
   "outputs": [
    {
     "ename": "NameError",
     "evalue": "name 'jpholiday' is not defined",
     "output_type": "error",
     "traceback": [
      "\u001b[1;31m---------------------------------------------------------------------------\u001b[0m",
      "\u001b[1;31mNameError\u001b[0m                                 Traceback (most recent call last)",
      "Cell \u001b[1;32mIn[5], line 1\u001b[0m\n\u001b[1;32m----> 1\u001b[0m jpholiday\u001b[38;5;241m.\u001b[39myear_holidays(\u001b[38;5;241m2023\u001b[39m)\n",
      "\u001b[1;31mNameError\u001b[0m: name 'jpholiday' is not defined"
     ]
    }
   ],
   "source": [
    "jpholiday.year_holidays(2023)"
   ]
  },
  {
   "cell_type": "code",
   "execution_count": 7,
   "id": "f4c81ff7",
   "metadata": {},
   "outputs": [
    {
     "ename": "ModuleNotFoundError",
     "evalue": "No module named 'jpholiday'",
     "output_type": "error",
     "traceback": [
      "\u001b[1;31m---------------------------------------------------------------------------\u001b[0m",
      "\u001b[1;31mModuleNotFoundError\u001b[0m                       Traceback (most recent call last)",
      "Cell \u001b[1;32mIn[7], line 1\u001b[0m\n\u001b[1;32m----> 1\u001b[0m \u001b[38;5;28;01mimport\u001b[39;00m \u001b[38;5;21;01mjpholiday\u001b[39;00m\n",
      "\u001b[1;31mModuleNotFoundError\u001b[0m: No module named 'jpholiday'"
     ]
    }
   ],
   "source": [
    "import jpholiday"
   ]
  },
  {
   "cell_type": "code",
   "execution_count": 8,
   "id": "65768c45",
   "metadata": {},
   "outputs": [],
   "source": [
    "import sys"
   ]
  },
  {
   "cell_type": "code",
   "execution_count": 9,
   "id": "af208d1c",
   "metadata": {},
   "outputs": [],
   "source": [
    "import pprint"
   ]
  },
  {
   "cell_type": "code",
   "execution_count": 10,
   "id": "f974b269",
   "metadata": {},
   "outputs": [
    {
     "name": "stdout",
     "output_type": "stream",
     "text": [
      "['C:\\\\Study\\\\Python',\n",
      " 'C:\\\\ProgramData\\\\anaconda3\\\\python311.zip',\n",
      " 'C:\\\\ProgramData\\\\anaconda3\\\\DLLs',\n",
      " 'C:\\\\ProgramData\\\\anaconda3\\\\Lib',\n",
      " 'C:\\\\ProgramData\\\\anaconda3',\n",
      " '',\n",
      " 'C:\\\\ProgramData\\\\anaconda3\\\\Lib\\\\site-packages',\n",
      " 'C:\\\\ProgramData\\\\anaconda3\\\\Lib\\\\site-packages\\\\win32',\n",
      " 'C:\\\\ProgramData\\\\anaconda3\\\\Lib\\\\site-packages\\\\win32\\\\lib',\n",
      " 'C:\\\\ProgramData\\\\anaconda3\\\\Lib\\\\site-packages\\\\Pythonwin']\n"
     ]
    }
   ],
   "source": [
    "pprint.pprint(sys.path)"
   ]
  },
  {
   "cell_type": "code",
   "execution_count": 1,
   "id": "76b711a9",
   "metadata": {},
   "outputs": [],
   "source": [
    "import jpholiday"
   ]
  },
  {
   "cell_type": "code",
   "execution_count": 2,
   "id": "6b79b907",
   "metadata": {},
   "outputs": [
    {
     "data": {
      "text/plain": [
       "[(datetime.date(2023, 1, 1), '元日'),\n",
       " (datetime.date(2023, 1, 2), '元日 振替休日'),\n",
       " (datetime.date(2023, 1, 9), '成人の日'),\n",
       " (datetime.date(2023, 2, 11), '建国記念の日'),\n",
       " (datetime.date(2023, 2, 23), '天皇誕生日'),\n",
       " (datetime.date(2023, 3, 21), '春分の日'),\n",
       " (datetime.date(2023, 4, 29), '昭和の日'),\n",
       " (datetime.date(2023, 5, 3), '憲法記念日'),\n",
       " (datetime.date(2023, 5, 4), 'みどりの日'),\n",
       " (datetime.date(2023, 5, 5), 'こどもの日'),\n",
       " (datetime.date(2023, 7, 17), '海の日'),\n",
       " (datetime.date(2023, 8, 11), '山の日'),\n",
       " (datetime.date(2023, 9, 18), '敬老の日'),\n",
       " (datetime.date(2023, 9, 23), '秋分の日'),\n",
       " (datetime.date(2023, 10, 9), 'スポーツの日'),\n",
       " (datetime.date(2023, 11, 3), '文化の日'),\n",
       " (datetime.date(2023, 11, 23), '勤労感謝の日')]"
      ]
     },
     "execution_count": 2,
     "metadata": {},
     "output_type": "execute_result"
    }
   ],
   "source": [
    "jpholiday.year_holidays(2023)"
   ]
  },
  {
   "cell_type": "code",
   "execution_count": 3,
   "id": "be4925af",
   "metadata": {},
   "outputs": [
    {
     "data": {
      "text/plain": [
       "17"
      ]
     },
     "execution_count": 3,
     "metadata": {},
     "output_type": "execute_result"
    }
   ],
   "source": [
    "len(jpholiday.year_holidays(2023))"
   ]
  },
  {
   "cell_type": "code",
   "execution_count": 4,
   "id": "268bf1e5",
   "metadata": {},
   "outputs": [
    {
     "name": "stdout",
     "output_type": "stream",
     "text": [
      "Defaulting to user installation because normal site-packages is not writeable\n",
      "Collecting pyperclip\n",
      "  Downloading pyperclip-1.8.2.tar.gz (20 kB)\n",
      "  Preparing metadata (setup.py): started\n",
      "  Preparing metadata (setup.py): finished with status 'done'\n",
      "Building wheels for collected packages: pyperclip\n",
      "  Building wheel for pyperclip (setup.py): started\n",
      "  Building wheel for pyperclip (setup.py): finished with status 'done'\n",
      "  Created wheel for pyperclip: filename=pyperclip-1.8.2-py3-none-any.whl size=11137 sha256=8452280e3d46196ca8c88f312275ce21b0cde4a203d1b270fde4e1af19a3c2d7\n",
      "  Stored in directory: c:\\users\\showo\\appdata\\local\\pip\\cache\\wheels\\70\\bd\\ba\\8ae5c080c895c9360fe6e153acda2dee82527374467eae061b\n",
      "Successfully built pyperclip\n",
      "Installing collected packages: pyperclip\n",
      "Successfully installed pyperclip-1.8.2\n"
     ]
    }
   ],
   "source": [
    "!pip install pyperclip"
   ]
  },
  {
   "cell_type": "code",
   "execution_count": 5,
   "id": "6c6e958d",
   "metadata": {},
   "outputs": [],
   "source": [
    "import pyperclip"
   ]
  },
  {
   "cell_type": "code",
   "execution_count": 6,
   "id": "bfba0331",
   "metadata": {},
   "outputs": [
    {
     "data": {
      "text/plain": [
       "'ModuleNotFoundError'"
      ]
     },
     "execution_count": 6,
     "metadata": {},
     "output_type": "execute_result"
    }
   ],
   "source": [
    "pyperclip.paste()"
   ]
  },
  {
   "cell_type": "code",
   "execution_count": 7,
   "id": "8175acfe",
   "metadata": {},
   "outputs": [],
   "source": [
    "import os"
   ]
  },
  {
   "cell_type": "code",
   "execution_count": 8,
   "id": "e11c3e78",
   "metadata": {},
   "outputs": [
    {
     "ename": "AttributeError",
     "evalue": "module 'os' has no attribute 'getpwd'",
     "output_type": "error",
     "traceback": [
      "\u001b[1;31m---------------------------------------------------------------------------\u001b[0m",
      "\u001b[1;31mAttributeError\u001b[0m                            Traceback (most recent call last)",
      "Cell \u001b[1;32mIn[8], line 1\u001b[0m\n\u001b[1;32m----> 1\u001b[0m os\u001b[38;5;241m.\u001b[39mgetpwd()\n",
      "\u001b[1;31mAttributeError\u001b[0m: module 'os' has no attribute 'getpwd'"
     ]
    }
   ],
   "source": [
    "os.getpwd()"
   ]
  },
  {
   "cell_type": "code",
   "execution_count": 9,
   "id": "ed7d481d",
   "metadata": {},
   "outputs": [
    {
     "ename": "NameError",
     "evalue": "name 'ps' is not defined",
     "output_type": "error",
     "traceback": [
      "\u001b[1;31m---------------------------------------------------------------------------\u001b[0m",
      "\u001b[1;31mNameError\u001b[0m                                 Traceback (most recent call last)",
      "Cell \u001b[1;32mIn[9], line 1\u001b[0m\n\u001b[1;32m----> 1\u001b[0m ps\u001b[38;5;241m.\u001b[39mgetcwd()\n",
      "\u001b[1;31mNameError\u001b[0m: name 'ps' is not defined"
     ]
    }
   ],
   "source": [
    "ps.getcwd()"
   ]
  },
  {
   "cell_type": "code",
   "execution_count": 10,
   "id": "e2bcacfc",
   "metadata": {},
   "outputs": [
    {
     "data": {
      "text/plain": [
       "'C:\\\\Study\\\\Python'"
      ]
     },
     "execution_count": 10,
     "metadata": {},
     "output_type": "execute_result"
    }
   ],
   "source": [
    "os.getcwd()"
   ]
  },
  {
   "cell_type": "code",
   "execution_count": 11,
   "id": "1d8d5c91",
   "metadata": {},
   "outputs": [],
   "source": [
    "os.mkdir('test')"
   ]
  },
  {
   "cell_type": "code",
   "execution_count": 12,
   "id": "ac7a7bb2",
   "metadata": {},
   "outputs": [],
   "source": [
    "os.rename('test','TEST')"
   ]
  },
  {
   "cell_type": "code",
   "execution_count": 13,
   "id": "67f0202c",
   "metadata": {},
   "outputs": [
    {
     "name": "stdout",
     "output_type": "stream",
     "text": [
      "Defaulting to user installation because normal site-packages is not writeable\n",
      "Requirement already satisfied: matplotlib in c:\\programdata\\anaconda3\\lib\\site-packages (3.7.1)\n",
      "Requirement already satisfied: contourpy>=1.0.1 in c:\\programdata\\anaconda3\\lib\\site-packages (from matplotlib) (1.0.5)\n",
      "Requirement already satisfied: cycler>=0.10 in c:\\programdata\\anaconda3\\lib\\site-packages (from matplotlib) (0.11.0)\n",
      "Requirement already satisfied: fonttools>=4.22.0 in c:\\programdata\\anaconda3\\lib\\site-packages (from matplotlib) (4.25.0)\n",
      "Requirement already satisfied: kiwisolver>=1.0.1 in c:\\programdata\\anaconda3\\lib\\site-packages (from matplotlib) (1.4.4)\n",
      "Requirement already satisfied: numpy>=1.20 in c:\\programdata\\anaconda3\\lib\\site-packages (from matplotlib) (1.24.3)\n",
      "Requirement already satisfied: packaging>=20.0 in c:\\programdata\\anaconda3\\lib\\site-packages (from matplotlib) (23.0)\n",
      "Requirement already satisfied: pillow>=6.2.0 in c:\\programdata\\anaconda3\\lib\\site-packages (from matplotlib) (9.4.0)\n",
      "Requirement already satisfied: pyparsing>=2.3.1 in c:\\programdata\\anaconda3\\lib\\site-packages (from matplotlib) (3.0.9)\n",
      "Requirement already satisfied: python-dateutil>=2.7 in c:\\programdata\\anaconda3\\lib\\site-packages (from matplotlib) (2.8.2)\n",
      "Requirement already satisfied: six>=1.5 in c:\\programdata\\anaconda3\\lib\\site-packages (from python-dateutil>=2.7->matplotlib) (1.16.0)\n"
     ]
    }
   ],
   "source": [
    "!pip install matplotlib"
   ]
  },
  {
   "cell_type": "code",
   "execution_count": 14,
   "id": "6457b9dc",
   "metadata": {},
   "outputs": [],
   "source": [
    "import matplotlib.pyplot as plt"
   ]
  },
  {
   "cell_type": "code",
   "execution_count": 15,
   "id": "bca1541c",
   "metadata": {},
   "outputs": [
    {
     "data": {
      "text/plain": [
       "[<matplotlib.lines.Line2D at 0x1a610a0da50>]"
      ]
     },
     "execution_count": 15,
     "metadata": {},
     "output_type": "execute_result"
    },
    {
     "data": {
      "image/png": "[encoded data removed]",
      "text/plain": [
       "<Figure size 640x480 with 1 Axes>"
      ]
     },
     "metadata": {},
     "output_type": "display_data"
    }
   ],
   "source": [
    "x=[1,2,3,4,5]\n",
    "y=[1,5,3,4,7]\n",
    "plt.plot(x,y)"
   ]
  },
  {
   "cell_type": "code",
   "execution_count": 16,
   "id": "6120dc6c",
   "metadata": {},
   "outputs": [
    {
     "data": {
      "text/plain": [
       "<BarContainer object of 5 artists>"
      ]
     },
     "execution_count": 16,
     "metadata": {},
     "output_type": "execute_result"
    },
    {
     "data": {
      "image/png": "[encoded data removed]",
      "text/plain": [
       "<Figure size 640x480 with 1 Axes>"
      ]
     },
     "metadata": {},
     "output_type": "display_data"
    }
   ],
   "source": [
    "plt.bar(x,y)"
   ]
  },
  {
   "cell_type": "code",
   "execution_count": null,
   "id": "08075766",
   "metadata": {},
   "outputs": [],
   "source": []
  }
 ],
 "metadata": {
  "kernelspec": {
   "display_name": "Python 3 (ipykernel)",
   "language": "python",
   "name": "python3"
  },
  "language_info": {
   "codemirror_mode": {
    "name": "ipython",
    "version": 3
   },
   "file_extension": ".py",
   "mimetype": "text/x-python",
   "name": "python",
   "nbconvert_exporter": "python",
   "pygments_lexer": "ipython3",
   "version": "3.11.4"
  }
 },
 "nbformat": 4,
 "nbformat_minor": 5
}
